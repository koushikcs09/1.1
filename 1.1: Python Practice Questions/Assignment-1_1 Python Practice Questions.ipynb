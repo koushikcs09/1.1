{
 "cells": [
  {
   "cell_type": "markdown",
   "metadata": {},
   "source": [
    "# 1) Write a function that inputs a number and prints the multiplication table of that number"
   ]
  },
  {
   "cell_type": "code",
   "execution_count": 1,
   "metadata": {},
   "outputs": [
    {
     "name": "stdout",
     "output_type": "stream",
     "text": [
      "Input a number: 5\n",
      "5 x 1 = 5\n",
      "5 x 2 = 10\n",
      "5 x 3 = 15\n",
      "5 x 4 = 20\n",
      "5 x 5 = 25\n",
      "5 x 6 = 30\n",
      "5 x 7 = 35\n",
      "5 x 8 = 40\n",
      "5 x 9 = 45\n",
      "5 x 10 = 50\n"
     ]
    }
   ],
   "source": [
    "n = int(input(\"Input a number: \"))\n",
    "# use for loop to iterate 10 times\n",
    "for i in range(1,11):\n",
    "   print(n,'x',i,'=',n*i)"
   ]
  },
  {
   "cell_type": "markdown",
   "metadata": {},
   "source": [
    "# Write a program to print twin primes less than 1000. If two consecutive odd numbers are both prime then they are known as twin primes"
   ]
  },
  {
   "cell_type": "code",
   "execution_count": 5,
   "metadata": {},
   "outputs": [
    {
     "name": "stdout",
     "output_type": "stream",
     "text": [
      "3 and 5\n",
      "5 and 7\n",
      "11 and 13\n",
      "17 and 19\n",
      "29 and 31\n",
      "41 and 43\n",
      "59 and 61\n",
      "71 and 73\n",
      "101 and 103\n",
      "107 and 109\n",
      "137 and 139\n",
      "149 and 151\n",
      "179 and 181\n",
      "191 and 193\n",
      "197 and 199\n",
      "227 and 229\n",
      "239 and 241\n",
      "269 and 271\n",
      "281 and 283\n",
      "311 and 313\n",
      "347 and 349\n",
      "419 and 421\n",
      "431 and 433\n",
      "461 and 463\n",
      "521 and 523\n",
      "569 and 571\n",
      "599 and 601\n",
      "617 and 619\n",
      "641 and 643\n",
      "659 and 661\n",
      "809 and 811\n",
      "821 and 823\n",
      "827 and 829\n",
      "857 and 859\n",
      "881 and 883\n"
     ]
    }
   ],
   "source": [
    "def is_prime(n):\n",
    "   for i in range(2, n):\n",
    "      if n % i == 0:\n",
    "         return False\n",
    "   return True\n",
    "\n",
    "def generate_twins(start, end):\n",
    "   for i in range(start, end):\n",
    "      j = i + 2\n",
    "      if(is_prime(i) and is_prime(j)):\n",
    "         print(\"{:d} and {:d}\".format(i, j))\n",
    "\n",
    "generate_twins(2, 1000)"
   ]
  },
  {
   "cell_type": "markdown",
   "metadata": {},
   "source": [
    "# Write a program to find out the prime factors of a number. Example: prime factors of 56 -2, 2, 2, 7"
   ]
  },
  {
   "cell_type": "code",
   "execution_count": 1,
   "metadata": {},
   "outputs": [
    {
     "name": "stdout",
     "output_type": "stream",
     "text": [
      "Enter the number68\n",
      "2\n",
      "17\n"
     ]
    }
   ],
   "source": [
    "n=int(input(\"Enter the number\"))\n",
    "if n==1 :  #because the below logic doesn't work on 1\n",
    "    print(n)\n",
    "for i in range(2 , n+1):\n",
    "    if n%i==0 :\n",
    "        n1=i  #get factor\n",
    "        #n=n/i\n",
    "        for b in range(2,n+1): #check if it is prime\n",
    "            if ((n1%b)==0) & (n1==b):\n",
    "                print(n1)\n",
    "            elif (n1%b)==0 or n1<b:  #if not then pass\n",
    "                break"
   ]
  },
  {
   "cell_type": "code",
   "execution_count": 8,
   "metadata": {},
   "outputs": [
    {
     "name": "stdout",
     "output_type": "stream",
     "text": [
      " Please Enter any Number: 56\n",
      " 2 is a Prime Factor of a Given Number 56\n",
      " 7 is a Prime Factor of a Given Number 56\n"
     ]
    }
   ],
   "source": [
    "Number = int(input(\" Please Enter any Number: \"))\n",
    "\n",
    "for i in range(2, Number + 1):\n",
    "    if(Number % i == 0):\n",
    "        isprime = 1\n",
    "        for j in range(2, (i //2 + 1)):\n",
    "            if(i % j == 0):\n",
    "                isprime = 0\n",
    "                break \n",
    "            \n",
    "        if (isprime == 1):\n",
    "            print(\" %d is a Prime Factor of a Given Number %d\" %(i, Number))"
   ]
  },
  {
   "cell_type": "markdown",
   "metadata": {},
   "source": [
    "# Write a program to implement these formulae of permutations and combinations. Number of permutations of n objects taken r at a time: p(n, r) = n! / (n-r)!. Number of combinations of n objects taken r at a time is: c(n, r) = n! / (r!*(n-r)!) = p(n,r) / r!"
   ]
  },
  {
   "cell_type": "code",
   "execution_count": 9,
   "metadata": {},
   "outputs": [
    {
     "name": "stdout",
     "output_type": "stream",
     "text": [
      "720\n",
      "120\n"
     ]
    }
   ],
   "source": [
    "# Python 3 program To calculate \n",
    "# The Value Of nCr \n",
    "# Python 3 program To calculate \n",
    "# The Value Of nCr \n",
    "\n",
    "def nPr(n, r):\n",
    "\treturn (fact(n) / fact(n - r))\n",
    "\n",
    "def nCr(n, r): \n",
    "\n",
    "\treturn (fact(n) / (fact(r) \n",
    "\t\t\t\t* fact(n - r))) \n",
    "\n",
    "# Returns factorial of n \n",
    "def fact(n):\n",
    "\tres = 1\n",
    "\tfor i in range(2, n+1): \n",
    "\t\tres = res * i\n",
    "\treturn res \n",
    "\n",
    "# Driver code \n",
    "n = 10\n",
    "r = 3\n",
    "print(int(nPr(n, r)))\n",
    "print(int(nCr(n, r))) \n",
    "\n",
    "# This code is contributed \n",
    "# by Smitha \n"
   ]
  },
  {
   "cell_type": "code",
   "execution_count": 10,
   "metadata": {},
   "outputs": [],
   "source": [
    "import operator as op\n",
    "from functools import reduce\n",
    "\n",
    "#permutations\n",
    "def npr(n, r):\n",
    "    r = min(r, n-r)\n",
    "    numer = reduce(op.mul, range(n, n-r, -1), 1)      \n",
    "    return int(numer)\n",
    "\n",
    "#combinations\n",
    "def ncr(n, r):\n",
    "    r = min(r, n-r)\n",
    "    numer = reduce(op.mul, range(n, n-r, -1), 1)\n",
    "    denom = reduce(op.mul, range(1, r+1), 1)\n",
    "    return int(numer / denom)"
   ]
  },
  {
   "cell_type": "code",
   "execution_count": 11,
   "metadata": {},
   "outputs": [
    {
     "data": {
      "text/plain": [
       "184756"
      ]
     },
     "execution_count": 11,
     "metadata": {},
     "output_type": "execute_result"
    }
   ],
   "source": [
    "ncr(20,10)"
   ]
  },
  {
   "cell_type": "code",
   "execution_count": 15,
   "metadata": {},
   "outputs": [
    {
     "data": {
      "text/plain": [
       "1860480"
      ]
     },
     "execution_count": 15,
     "metadata": {},
     "output_type": "execute_result"
    }
   ],
   "source": [
    "npr(20,5)"
   ]
  },
  {
   "cell_type": "markdown",
   "metadata": {},
   "source": [
    "# Write a function that converts a decimal number to binary number"
   ]
  },
  {
   "cell_type": "code",
   "execution_count": 15,
   "metadata": {},
   "outputs": [
    {
     "ename": "TabError",
     "evalue": "inconsistent use of tabs and spaces in indentation (<ipython-input-15-f1a9b276c7c9>, line 17)",
     "output_type": "error",
     "traceback": [
      "\u001b[0;36m  File \u001b[0;32m\"<ipython-input-15-f1a9b276c7c9>\"\u001b[0;36m, line \u001b[0;32m17\u001b[0m\n\u001b[0;31m    binaryNum[i] = n % 2\u001b[0m\n\u001b[0m                        ^\u001b[0m\n\u001b[0;31mTabError\u001b[0m\u001b[0;31m:\u001b[0m inconsistent use of tabs and spaces in indentation\n"
     ]
    }
   ],
   "source": [
    "# Python3 program to convert a \n",
    "# decimal number to binary number \n",
    "\n",
    "# function to convert \n",
    "# decimal to binary \n",
    "def decToBinary(n): \n",
    "\t\n",
    "\t# array to store \n",
    "\t# binary number \n",
    "\tbinaryNum = [0] * n\n",
    "\n",
    "\t# counter for binary array \n",
    "\ti = 0\n",
    "\twhile (n > 0):\n",
    "        # storing remainder\n",
    "        # in binary array \n",
    "        binaryNum[i] = n % 2\n",
    "        n = int(n / 2)\n",
    "        i += 1\n",
    "    # printing binary array \n",
    "\t# in reverse order \n",
    "\tfor j in range(i - 1, -1, -1): \n",
    "\t\tprint(binaryNum[j], end = \"\") \n",
    "\n",
    "# Driver Code \n",
    "n = 10; \n",
    "decToBinary(n)\n",
    "\n",
    "# This code is contributed by mits \n"
   ]
  },
  {
   "cell_type": "code",
   "execution_count": 12,
   "metadata": {},
   "outputs": [
    {
     "ename": "SyntaxError",
     "evalue": "EOL while scanning string literal (<ipython-input-12-5fabd59ff2dd>, line 9)",
     "output_type": "error",
     "traceback": [
      "\u001b[0;36m  File \u001b[0;32m\"<ipython-input-12-5fabd59ff2dd>\"\u001b[0;36m, line \u001b[0;32m9\u001b[0m\n\u001b[0;31m    number = int(input(\"Enter any decimal number: end=\"\")\u001b[0m\n\u001b[0m                                                         ^\u001b[0m\n\u001b[0;31mSyntaxError\u001b[0m\u001b[0;31m:\u001b[0m EOL while scanning string literal\n"
     ]
    }
   ],
   "source": [
    "def decimalToBinary(num):\n",
    "    \"\"\"This function converts decimal number\n",
    "    to binary and prints it\"\"\"\n",
    "    if num > 1:\n",
    "        decimalToBinary(num // 2)\n",
    "    print(num % 2)\n",
    "\n",
    "# decimal number\n",
    "number = int(input(\"Enter any decimal number: end=\"\")\n",
    "decimalToBinary(number)"
   ]
  },
  {
   "cell_type": "markdown",
   "metadata": {},
   "source": [
    "# Write a function cubesum() that accepts an integer and returns the sum of the cubes of individual digits of that number. Use this function to make functions PrintArmstrong() and isArmstrong() to print Armstrong numbers and to find whether is an Armstrong number."
   ]
  },
  {
   "cell_type": "code",
   "execution_count": 24,
   "metadata": {},
   "outputs": [],
   "source": [
    "def cubesum(n):\n",
    "   r = 0\n",
    "   for i in range(len(str(n))):\n",
    "        r, n = r + pow((n % 10),3), n // 10\n",
    "   return r"
   ]
  },
  {
   "cell_type": "code",
   "execution_count": 25,
   "metadata": {},
   "outputs": [
    {
     "data": {
      "text/plain": [
       "190"
      ]
     },
     "execution_count": 25,
     "metadata": {},
     "output_type": "execute_result"
    }
   ],
   "source": [
    "cubesum(154)"
   ]
  },
  {
   "cell_type": "code",
   "execution_count": 30,
   "metadata": {},
   "outputs": [],
   "source": [
    "def isArmstrong(n): \n",
    "    # Initializing Sum and Number of Digits\n",
    "    Sum = 0\n",
    "    Times = 0\n",
    "    Number = n\n",
    "    # Calculating Number of individual digits\n",
    "    Temp = Number\n",
    "    while Temp > 0:\n",
    "               Times = Times + 1\n",
    "               Temp = Temp // 10\n",
    "\n",
    "    # Finding Armstrong Number\n",
    "    Temp = Number\n",
    "    while Temp > 0:\n",
    "               Reminder = Temp % 10\n",
    "               Sum = Sum + (Reminder ** Times)\n",
    "               Temp //= 10\n",
    "    if Number == Sum:\n",
    "               print(\"\\n %d is Armstrong Number.\\n\" %Number)\n",
    "    else:\n",
    "               print(\"\\n %d is Not a Armstrong Number.\\n\" %Number)   "
   ]
  },
  {
   "cell_type": "code",
   "execution_count": 32,
   "metadata": {},
   "outputs": [
    {
     "name": "stdout",
     "output_type": "stream",
     "text": [
      "\n",
      " 371 is Armstrong Number.\n",
      "\n"
     ]
    }
   ],
   "source": [
    "isArmstrong(371)"
   ]
  },
  {
   "cell_type": "code",
   "execution_count": 45,
   "metadata": {},
   "outputs": [],
   "source": [
    "# Python Program to Find Armstrong Numbers between the 1 to n\n",
    "def PrintArmstrong(m,n):  \n",
    "    Minimum = m\n",
    "    Maximum = n \n",
    "    for Number in range(Minimum, Maximum + 1):\n",
    "               # Initializing Sum and Number of Digits\n",
    "               Sum = 0\n",
    "               Times = 0\n",
    "\n",
    "               # Calculating Number of individual digits\n",
    "               Temp = Number\n",
    "               while Temp > 0:\n",
    "                          Times = Times + 1\n",
    "                          Temp = Temp // 10\n",
    "\n",
    "               # Finding Armstrong Number\n",
    "               Temp = Number\n",
    "               while Temp > 0:\n",
    "                          Reminder = Temp % 10\n",
    "                          Sum = Sum + (Reminder ** Times)\n",
    "                          Temp //= 10\n",
    "               if Number == Sum:\n",
    "                          print(Number)"
   ]
  },
  {
   "cell_type": "code",
   "execution_count": 47,
   "metadata": {},
   "outputs": [
    {
     "name": "stdout",
     "output_type": "stream",
     "text": [
      "1\n",
      "2\n",
      "3\n",
      "4\n",
      "5\n",
      "6\n",
      "7\n",
      "8\n",
      "9\n",
      "153\n"
     ]
    }
   ],
   "source": [
    "PrintArmstrong(1,200)"
   ]
  },
  {
   "cell_type": "markdown",
   "metadata": {},
   "source": [
    "# Write a function prodDigits() that inputs a number and returns the product of digits of that number."
   ]
  },
  {
   "cell_type": "code",
   "execution_count": 33,
   "metadata": {},
   "outputs": [],
   "source": [
    "def product_of_digits():\n",
    "    # Take input from user\n",
    "    num = int(input(number))\n",
    "    temp = num\n",
    "    product = 1;\n",
    "\n",
    "    while(temp != 0):\n",
    "        product = product * (temp % 10);\n",
    "        # Remove last digit from temp.\n",
    "        temp = int(temp / 10)\n",
    "    print(\"Product of all digits in\", num, \":\", product)       "
   ]
  },
  {
   "cell_type": "code",
   "execution_count": null,
   "metadata": {},
   "outputs": [],
   "source": [
    "product_of_digits()"
   ]
  },
  {
   "cell_type": "markdown",
   "metadata": {},
   "source": [
    "# If all digits of a number n are multiplied by each other repeating with the product, the one digit number obtained at last is called the multiplicative digital root of n. The number of times digits need to be multiplied to reach one digit is called the multiplicative persistance of n.\n",
    "Example: 86 -> 48 -> 32 -> 6 (MDR 6, MPersistence 3)\n",
    "341 -> 12->2\n",
    "(MDR 2, MPersistence 2)\n",
    "Using the function prodDigits() of previous exercise write functions MDR() and\n",
    "MPersistence() that input a number and return its multiplicative digital root and\n",
    "multiplicative persistence respectively"
   ]
  },
  {
   "cell_type": "code",
   "execution_count": 68,
   "metadata": {},
   "outputs": [],
   "source": [
    "#start outer loop \n",
    "#quit if the integer is less than 0                \n",
    "for i in range(calcNumber):\n",
    "    if i < 0:\n",
    "        print(\"Thanks for playing along!\")\n",
    "        quit()\n",
    "#solve for one-digit integer                \n",
    "    if number <= 9:  \n",
    "        print(\"Additive Persistence = 0,\",\"Additive Root =\",number)\n",
    "        print(\"Multiplicative Persistence = 0,\",\"Multiplicative Root =\",number)\n",
    " \n",
    "#add and multiply digits\n",
    "def addDigits(num):\n",
    "    numDigits = len(str(num))\n",
    "    sum = 0\n",
    "\n",
    "    for i in range(numDigits):\n",
    "        digit = num // (10**i) % 10\n",
    "        sum = sum + digit\n",
    "\n",
    "    return sum\n",
    "\n",
    "def prodDigits(num):\n",
    "    numDigits = len(str(num))\n",
    "    product = 1\n",
    "\n",
    "    for i in range(numDigits):\n",
    "        digit = num // (10**i) % 10\n",
    "        product = product * digit\n",
    "\n",
    "    return product\n",
    "\n",
    "#additive and multiplicative persistence\n",
    "def MDR(num):\n",
    "    persistance = num\n",
    "\n",
    "    while len(str(persistance)) > 1:\n",
    "        persistance = addDigits(persistance)\n",
    "        print(\"New Value:\", persistance)\n",
    "\n",
    "    return persistance\n",
    "\n",
    "def MPersistence(num):\n",
    "    persistance = num\n",
    "\n",
    "    while len(str(persistance)) > 1:\n",
    "        persistance = multiplyDigits(persistance)\n",
    "        print(\"New Value:\", persistance)\n",
    "\n",
    "    return persistance"
   ]
  },
  {
   "cell_type": "code",
   "execution_count": 69,
   "metadata": {},
   "outputs": [
    {
     "name": "stdout",
     "output_type": "stream",
     "text": [
      "What number should I use for my calculations?254\n",
      "New Value: 11\n",
      "New Value: 2\n",
      "New Value: 40\n",
      "New Value: 0\n"
     ]
    },
    {
     "data": {
      "text/plain": [
       "0"
      ]
     },
     "execution_count": 69,
     "metadata": {},
     "output_type": "execute_result"
    }
   ],
   "source": [
    "#ask the user for an integer\n",
    "calcNumber = int(input(\"What number should I use for my calculations?\") )\n",
    "addDigits(calcNumber)\n",
    "prodDigits(calcNumber)\n",
    "MDR(calcNumber)\n",
    "MPersistence(calcNumber)"
   ]
  },
  {
   "cell_type": "markdown",
   "metadata": {},
   "source": [
    "# Write a function sumPdivisors() that finds the sum of proper divisors of a number. Proper divisors of a number are those numbers by which the number is divisible, except the number itself. For example proper divisors of 36 are 1, 2, 3, 4, 6, 9, 18"
   ]
  },
  {
   "cell_type": "code",
   "execution_count": 71,
   "metadata": {},
   "outputs": [
    {
     "name": "stdout",
     "output_type": "stream",
     "text": [
      "55\n"
     ]
    }
   ],
   "source": [
    "import math \n",
    "      \n",
    "# Function to calculate sum of all proper \n",
    "# divisors num --> given natural number \n",
    "def sumPdivisors(num) : \n",
    "      \n",
    "    # Final result of summation of divisors \n",
    "    result = 0\n",
    "      \n",
    "    # find all divisors which divides 'num' \n",
    "    i = 2\n",
    "    while i<= (math.sqrt(num)) : \n",
    "        \n",
    "        # if 'i' is divisor of 'num' \n",
    "        if (num % i == 0) : \n",
    "        \n",
    "            # if both divisors are same then \n",
    "            # add it only once else add both \n",
    "            if (i == (num / i)) : \n",
    "                result = result + i; \n",
    "            else : \n",
    "                result = result +  (i + num/i); \n",
    "        i = i + 1\n",
    "          \n",
    "    # Add 1 to the result as 1 is also  \n",
    "    # a divisor \n",
    "    return (result + 1); \n",
    "   \n",
    "# Driver program to run the case \n",
    "num = 36\n",
    "print (int(sumPdivisors(num)))  \n"
   ]
  },
  {
   "cell_type": "markdown",
   "metadata": {},
   "source": [
    "# A number is called perfect if the sum of proper divisors of that number is equal to the number. For example 28 is perfect number, since 1+2+4+7+14=28. Write a program to print all the perfect numbers in a given range"
   ]
  },
  {
   "cell_type": "code",
   "execution_count": 72,
   "metadata": {},
   "outputs": [
    {
     "name": "stdout",
     "output_type": "stream",
     "text": [
      "55\n"
     ]
    }
   ],
   "source": [
    "import math \n",
    "      \n",
    "# Function to calculate sum of all proper \n",
    "# divisors num --> given natural number \n",
    "def divSum(num) : \n",
    "      \n",
    "    # Final result of summation of divisors \n",
    "    result = 0\n",
    "      \n",
    "    # find all divisors which divides 'num' \n",
    "    i = 2\n",
    "    while i<= (math.sqrt(num)) : \n",
    "        \n",
    "        # if 'i' is divisor of 'num' \n",
    "        if (num % i == 0) : \n",
    "        \n",
    "            # if both divisors are same then \n",
    "            # add it only once else add both \n",
    "            if (i == (num / i)) : \n",
    "                result = result + i; \n",
    "            else : \n",
    "                result = result +  (i + num/i); \n",
    "        i = i + 1\n",
    "          \n",
    "    # Add 1 to the result as 1 is also  \n",
    "    # a divisor \n",
    "    return (result + 1); \n",
    "   \n",
    "# Driver program to run the case \n",
    "num = 36\n",
    "print (int(divSum(num)))  "
   ]
  },
  {
   "cell_type": "markdown",
   "metadata": {},
   "source": [
    "# Two different numbers are called amicable numbers if the sum of the proper divisors of each is equal to the other number. For example 220 and 284 are amicable numbers.Sum of proper divisors of 220 = 1+2+4+5+10+11+20+22+44+55+110 = 284 Sum of proper divisors of 284 = 1+2+4+71+142 = 220 Write a function to print pairs of amicable numbers in a range"
   ]
  },
  {
   "cell_type": "code",
   "execution_count": 73,
   "metadata": {},
   "outputs": [],
   "source": [
    "def factors(n):    \n",
    "        return sorted(reduce(list.__add__, \n",
    "                    ([i, n//i] for i in range(1, int(n**0.5) + 1) if n % i == 0)))[:-1]\n",
    "\n",
    "def ami_check(m,n):\n",
    "    return sum(factors(m)) == n and n != m"
   ]
  },
  {
   "cell_type": "code",
   "execution_count": 75,
   "metadata": {},
   "outputs": [
    {
     "data": {
      "text/plain": [
       "True"
      ]
     },
     "execution_count": 75,
     "metadata": {},
     "output_type": "execute_result"
    }
   ],
   "source": [
    "ami_check(220,284)"
   ]
  },
  {
   "cell_type": "code",
   "execution_count": 7,
   "metadata": {},
   "outputs": [],
   "source": [
    "def sum_factors(n):  \n",
    "    result = []\n",
    "    for i in range(1, int(n**0.5) + 1):\n",
    "     if n % i == 0:\n",
    "         result.extend([i, n//i])\n",
    "    return sum(set(result)-set([n]))\n",
    "\n",
    "def amicable_pair(number):\n",
    "    result = []\n",
    "    for x in range(1,number+1):\n",
    "        y = sum_factors(x)\n",
    "        if sum_factors(y) == x and x != y:\n",
    "            result.append(tuple(sorted((x,y))))\n",
    "    return set(result)"
   ]
  },
  {
   "cell_type": "code",
   "execution_count": 8,
   "metadata": {},
   "outputs": [
    {
     "name": "stdout",
     "output_type": "stream",
     "text": [
      "{(1184, 1210), (220, 284), (5020, 5564), (6232, 6368), (2620, 2924)}\n"
     ]
    }
   ],
   "source": [
    "print(amicable_pair(10000))\n"
   ]
  },
  {
   "cell_type": "markdown",
   "metadata": {},
   "source": [
    "# Write a program which can filter odd numbers in a list by using filter function"
   ]
  },
  {
   "cell_type": "code",
   "execution_count": 9,
   "metadata": {},
   "outputs": [
    {
     "name": "stdout",
     "output_type": "stream",
     "text": [
      "Odd numbers in the list:  [21, 45, 93, 11]\n"
     ]
    }
   ],
   "source": [
    "# list of numbers  \n",
    "list1 = [10, 21, 4, 45, 66, 93, 11]   \n",
    "  \n",
    "# we can also print odd no's using lambda exp.  \n",
    "odd_nos = list(filter(lambda x: (x % 2 != 0), list1))  \n",
    "print(\"Odd numbers in the list: \", odd_nos)"
   ]
  },
  {
   "cell_type": "markdown",
   "metadata": {},
   "source": [
    "# Write a program which can map() to make a list whose elements are cube of elements in a given list"
   ]
  },
  {
   "cell_type": "code",
   "execution_count": 2,
   "metadata": {},
   "outputs": [
    {
     "name": "stdout",
     "output_type": "stream",
     "text": [
      "[1, 8, 27, 64, 125, 216, 343, 512, 729, 1000]\n"
     ]
    }
   ],
   "source": [
    "li = [1,2,3,4,5,6,7,8,9,10]\n",
    "cubeNumbers = list(map(lambda x: x**3, li))\n",
    "print(cubeNumbers)"
   ]
  },
  {
   "cell_type": "code",
   "execution_count": 17,
   "metadata": {},
   "outputs": [
    {
     "name": "stdout",
     "output_type": "stream",
     "text": [
      "<map object at 0x7f0c3c5feb38>\n"
     ]
    }
   ],
   "source": [
    "cubeNumbers = map(lambda x: x**3, range(1,21))\n",
    "print(cubeNumbers)"
   ]
  },
  {
   "cell_type": "markdown",
   "metadata": {},
   "source": [
    "# Write a program which can map() and filter() to make a list whose elements are cube of even number in a given list"
   ]
  },
  {
   "cell_type": "code",
   "execution_count": 3,
   "metadata": {},
   "outputs": [
    {
     "name": "stdout",
     "output_type": "stream",
     "text": [
      "[8, 64, 216, 512, 1000]\n"
     ]
    }
   ],
   "source": [
    "li = [1,2,3,4,5,6,7,8,9,10]\n",
    "evenNumbers = list(map(lambda x: x**3, filter(lambda x: x%2==0, li)))\n",
    "print(evenNumbers)"
   ]
  },
  {
   "cell_type": "code",
   "execution_count": null,
   "metadata": {},
   "outputs": [],
   "source": []
  }
 ],
 "metadata": {
  "kernelspec": {
   "display_name": "Python 3",
   "language": "python",
   "name": "python3"
  },
  "language_info": {
   "codemirror_mode": {
    "name": "ipython",
    "version": 3
   },
   "file_extension": ".py",
   "mimetype": "text/x-python",
   "name": "python",
   "nbconvert_exporter": "python",
   "pygments_lexer": "ipython3",
   "version": "3.7.3"
  }
 },
 "nbformat": 4,
 "nbformat_minor": 2
}
