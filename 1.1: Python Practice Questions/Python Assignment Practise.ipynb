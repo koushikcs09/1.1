{
 "cells": [
  {
   "cell_type": "code",
   "execution_count": 16,
   "metadata": {},
   "outputs": [
    {
     "name": "stdout",
     "output_type": "stream",
     "text": [
      " Input a number 5\n",
      " Product is:  5\n",
      " Product is:  10\n",
      " Product is:  15\n",
      " Product is:  20\n",
      " Product is:  25\n",
      " Product is:  30\n",
      " Product is:  35\n",
      " Product is:  40\n",
      " Product is:  45\n",
      " Product is:  50\n"
     ]
    }
   ],
   "source": [
    "n=int(input(\" Input a number \" ))\n",
    "for i in range(1,11):\n",
    "    #print(n,'x',i,'=',n*i)\n",
    "    print(\" Product is: \", n*i)\n"
   ]
  },
  {
   "cell_type": "code",
   "execution_count": 17,
   "metadata": {},
   "outputs": [
    {
     "name": "stdout",
     "output_type": "stream",
     "text": [
      " Enter a number 10\n",
      "10 x 1 = 10\n",
      "10 x 2 = 20\n",
      "10 x 3 = 30\n",
      "10 x 4 = 40\n",
      "10 x 5 = 50\n",
      "10 x 6 = 60\n",
      "10 x 7 = 70\n",
      "10 x 8 = 80\n",
      "10 x 9 = 90\n",
      "10 x 10 = 100\n"
     ]
    }
   ],
   "source": [
    "n=int(input(\" Enter a number \"))\n",
    "for i in range(1,11):\n",
    "    print(n,'x',i,'=',n*i)"
   ]
  },
  {
   "cell_type": "code",
   "execution_count": 21,
   "metadata": {},
   "outputs": [
    {
     "name": "stdout",
     "output_type": "stream",
     "text": [
      "3 and 5\n",
      "5 and 7\n",
      "11 and 13\n",
      "17 and 19\n",
      "29 and 31\n",
      "41 and 43\n",
      "59 and 61\n",
      "71 and 73\n",
      "101 and 103\n",
      "107 and 109\n",
      "137 and 139\n",
      "149 and 151\n",
      "179 and 181\n",
      "191 and 193\n",
      "197 and 199\n",
      "227 and 229\n",
      "239 and 241\n",
      "269 and 271\n",
      "281 and 283\n",
      "311 and 313\n",
      "347 and 349\n",
      "419 and 421\n",
      "431 and 433\n",
      "461 and 463\n",
      "521 and 523\n",
      "569 and 571\n",
      "599 and 601\n",
      "617 and 619\n",
      "641 and 643\n",
      "659 and 661\n",
      "809 and 811\n",
      "821 and 823\n",
      "827 and 829\n",
      "857 and 859\n",
      "881 and 883\n"
     ]
    }
   ],
   "source": [
    "def is_prime(n):\n",
    "    for i in range(2,n):\n",
    "        if n%i==0:\n",
    "            return False\n",
    "    return True\n",
    "def generate_twin_primes(start,end):\n",
    "    for i in range(start,end):\n",
    "        j=i+2\n",
    "        if(is_prime(i) and is_prime(j)):\n",
    "            print(\"{:d} and {:d}\".format(i,j))\n",
    "generate_twin_primes(2,1000)\n",
    "    "
   ]
  },
  {
   "cell_type": "code",
   "execution_count": 22,
   "metadata": {},
   "outputs": [
    {
     "name": "stdout",
     "output_type": "stream",
     "text": [
      " 3 and 5 \n",
      " 5 and 7 \n",
      " 11 and 13 \n",
      " 17 and 19 \n",
      " 29 and 31 \n",
      " 41 and 43 \n",
      " 59 and 61 \n",
      " 71 and 73 \n",
      " 101 and 103 \n",
      " 107 and 109 \n",
      " 137 and 139 \n",
      " 149 and 151 \n",
      " 179 and 181 \n",
      " 191 and 193 \n",
      " 197 and 199 \n",
      " 227 and 229 \n",
      " 239 and 241 \n",
      " 269 and 271 \n",
      " 281 and 283 \n",
      " 311 and 313 \n",
      " 347 and 349 \n",
      " 419 and 421 \n",
      " 431 and 433 \n",
      " 461 and 463 \n",
      " 521 and 523 \n",
      " 569 and 571 \n",
      " 599 and 601 \n",
      " 617 and 619 \n",
      " 641 and 643 \n",
      " 659 and 661 \n",
      " 809 and 811 \n",
      " 821 and 823 \n",
      " 827 and 829 \n",
      " 857 and 859 \n",
      " 881 and 883 \n"
     ]
    }
   ],
   "source": [
    "def is_prime(n):\n",
    "    for i in range(2,n):\n",
    "        if n%i==0:\n",
    "            return False\n",
    "    return True\n",
    "def generate_twin_primes(start,end):\n",
    "    for i in range(start,end):\n",
    "        j=i+2\n",
    "        if(is_prime(i) and is_prime(j)):\n",
    "            print(\" {:d} and {:d} \".format(i,j))\n",
    "generate_twin_primes(2,1000)"
   ]
  },
  {
   "cell_type": "code",
   "execution_count": 29,
   "metadata": {},
   "outputs": [
    {
     "name": "stdout",
     "output_type": "stream",
     "text": [
      " Enter the number 85\n",
      "5\n",
      "17\n"
     ]
    }
   ],
   "source": [
    "n=int(input(\" Enter the number \"))\n",
    "if n==1:\n",
    "    print(n)\n",
    "for i in range(2,n+1):\n",
    "    if n%i==0:\n",
    "        p=i\n",
    "        for b in range(2,n+1):\n",
    "            if((p%b==0) and (p==b)):\n",
    "                print(p)\n",
    "            elif((p%b==0) or (p<b)):\n",
    "                break\n"
   ]
  },
  {
   "cell_type": "code",
   "execution_count": 31,
   "metadata": {},
   "outputs": [
    {
     "name": "stdout",
     "output_type": "stream",
     "text": [
      " Enter the number 568\n",
      "2\n",
      "71\n"
     ]
    }
   ],
   "source": [
    "n=int(input(\" Enter the number \"))\n",
    "if n==1:\n",
    "    print(n)\n",
    "for i in range(2,n+1):\n",
    "    if n%i==0:\n",
    "        n1=i\n",
    "        for b in range(2,n+1):\n",
    "            if((n1%b==0) and (n1==b)):\n",
    "                print(n1)\n",
    "            elif((n1%b==0) or(n1<b)):\n",
    "                break"
   ]
  },
  {
   "cell_type": "code",
   "execution_count": 35,
   "metadata": {},
   "outputs": [
    {
     "name": "stdout",
     "output_type": "stream",
     "text": [
      " Enter a number 56\n",
      "2\n",
      "7\n"
     ]
    }
   ],
   "source": [
    "n=int(input(\" Enter a number \"))\n",
    "if n==1:\n",
    "    print(n)\n",
    "for i in range(2,n+1):\n",
    "    if n%i==0:\n",
    "        n1=i\n",
    "        for b in range(2,n+1):\n",
    "            if((n1%b==0) and (n1==b)):\n",
    "                print(n1)\n",
    "            elif((n1%b==0)):\n",
    "                break"
   ]
  },
  {
   "cell_type": "code",
   "execution_count": 43,
   "metadata": {},
   "outputs": [
    {
     "name": "stdout",
     "output_type": "stream",
     "text": [
      " Permutation:  720\n",
      " Combination:  120\n"
     ]
    }
   ],
   "source": [
    "def nPr(n,r):\n",
    "    return fact(n)/fact(n-r)\n",
    "\n",
    "def nCr(n,r):\n",
    "    return (fact(n))/(fact(n-r)*(fact(r)))\n",
    "\n",
    "def fact(n):\n",
    "    res=1\n",
    "    for i in range(2,n+1):\n",
    "        res=res*i\n",
    "    return res\n",
    "\n",
    "n=10\n",
    "r=3\n",
    "\n",
    "print(\" Permutation: \", int(nPr(n,r)))\n",
    "print(\" Combination: \", int(nCr(n,r)))\n",
    "\n"
   ]
  },
  {
   "cell_type": "code",
   "execution_count": 46,
   "metadata": {},
   "outputs": [
    {
     "name": "stdout",
     "output_type": "stream",
     "text": [
      "1010"
     ]
    }
   ],
   "source": [
    "def decimalToBinary(n):\n",
    "    binaryNum=[0] * n\n",
    "    i=0\n",
    "    while n>0:\n",
    "        binaryNum[i]=n%2\n",
    "        n=int(n/2)\n",
    "        i+=1\n",
    "    for j in range(i-1,-1,-1):\n",
    "        print(binaryNum[j],end=\"\")\n",
    "        \n",
    "n=10\n",
    "decimalToBinary(n)\n",
    "        \n",
    "    "
   ]
  },
  {
   "cell_type": "code",
   "execution_count": 55,
   "metadata": {},
   "outputs": [
    {
     "data": {
      "text/plain": [
       "190"
      ]
     },
     "execution_count": 55,
     "metadata": {},
     "output_type": "execute_result"
    }
   ],
   "source": [
    "def cubesum(n):\n",
    "    #n=int(input(\" Enter the number: \"))\n",
    "    r=0\n",
    "    for i in range(len(str(n))):\n",
    "        r=r+pow((n%10),3)\n",
    "        n=n//10\n",
    "    return r\n",
    "#print(\" Sum of cubes of the number is: cubesum(n)\")\n",
    "n=154\n",
    "cubesum(n)"
   ]
  },
  {
   "cell_type": "code",
   "execution_count": 57,
   "metadata": {},
   "outputs": [
    {
     "name": "stdout",
     "output_type": "stream",
     "text": [
      " Enter the number 165\n"
     ]
    },
    {
     "data": {
      "text/plain": [
       "342"
      ]
     },
     "execution_count": 57,
     "metadata": {},
     "output_type": "execute_result"
    }
   ],
   "source": [
    "def cubesum(n):\n",
    "    n=int(input(\" Enter the number \"))\n",
    "    r=0\n",
    "    for i in range(len(str(n))):\n",
    "        r=r+pow((n%10),3)\n",
    "        n=n//10\n",
    "    return r\n",
    "cubesum(n)"
   ]
  },
  {
   "cell_type": "code",
   "execution_count": 64,
   "metadata": {},
   "outputs": [
    {
     "name": "stdout",
     "output_type": "stream",
     "text": [
      " Enter the number 473\n"
     ]
    },
    {
     "data": {
      "text/plain": [
       "False"
      ]
     },
     "execution_count": 64,
     "metadata": {},
     "output_type": "execute_result"
    }
   ],
   "source": [
    "def isArmstrong(n):\n",
    "    n=int(input(\" Enter the number \"))\n",
    "    if n==cubesum(n):\n",
    "        return True\n",
    "    return False\n",
    "def cubesum(n):\n",
    "    sum=0\n",
    "    for i in range(len(str(n))):\n",
    "        sum=sum+int(n%10)**3\n",
    "        n=n//10\n",
    "    return sum\n",
    "\n",
    "isArmstrong(n)\n",
    "        \n"
   ]
  },
  {
   "cell_type": "code",
   "execution_count": 67,
   "metadata": {},
   "outputs": [
    {
     "name": "stdout",
     "output_type": "stream",
     "text": [
      " Enter the number 371\n"
     ]
    },
    {
     "data": {
      "text/plain": [
       "True"
      ]
     },
     "execution_count": 67,
     "metadata": {},
     "output_type": "execute_result"
    }
   ],
   "source": [
    "def isArmstrong(n):\n",
    "    n=int(input(\" Enter the number \"))\n",
    "    if n==cubesum(n):\n",
    "        return True\n",
    "    return False\n",
    "def cubesum(n):\n",
    "    sum=0\n",
    "    for i in range(len(str(n))):\n",
    "        sum=sum+int(n%10)**3\n",
    "        n=n//10\n",
    "    return sum\n",
    "isArmstrong(n)"
   ]
  },
  {
   "cell_type": "code",
   "execution_count": 85,
   "metadata": {},
   "outputs": [
    {
     "name": "stdout",
     "output_type": "stream",
     "text": [
      " Enter the number 254\n",
      " Product of the numbers is:  40\n"
     ]
    }
   ],
   "source": [
    "def prodDigits(n):\n",
    "    n=int(input(\" Enter the number \"))\n",
    "    #n=str(n)\n",
    "    prod=1\n",
    "    for i in str(n):\n",
    "        #prod=1\n",
    "        prod*=int(i)\n",
    "    return(prod)\n",
    "print(\" Product of the numbers is: \", prodDigits(n))\n"
   ]
  },
  {
   "cell_type": "code",
   "execution_count": 84,
   "metadata": {},
   "outputs": [
    {
     "name": "stdout",
     "output_type": "stream",
     "text": [
      "154\n"
     ]
    }
   ],
   "source": [
    "print(n)"
   ]
  },
  {
   "cell_type": "code",
   "execution_count": 91,
   "metadata": {},
   "outputs": [
    {
     "name": "stdout",
     "output_type": "stream",
     "text": [
      " Prod of digits is:  160\n"
     ]
    }
   ],
   "source": [
    "def prodDigits(n):\n",
    "    #n=int(input(\" Enter a number: \"))\n",
    "    prod=1\n",
    "    for i in str(n):\n",
    "        prod*=int(i)\n",
    "    return prod\n",
    "print(\" Prod of digits is: \",prodDigits(458))"
   ]
  },
  {
   "cell_type": "code",
   "execution_count": 94,
   "metadata": {},
   "outputs": [
    {
     "data": {
      "text/plain": [
       "(2, 2)"
      ]
     },
     "execution_count": 94,
     "metadata": {},
     "output_type": "execute_result"
    }
   ],
   "source": [
    "def MDR_MPersistence(num):\n",
    "    s=str(num)\n",
    "    persistence=0\n",
    "    while len(s)>1:\n",
    "        s=str(prodDigits(int(s)))\n",
    "        persistence+=1\n",
    "    return int(s),persistence\n",
    "\n",
    "MDR_MPersistence(341)"
   ]
  },
  {
   "cell_type": "code",
   "execution_count": 101,
   "metadata": {},
   "outputs": [
    {
     "data": {
      "text/plain": [
       "(8, 3)"
      ]
     },
     "execution_count": 101,
     "metadata": {},
     "output_type": "execute_result"
    }
   ],
   "source": [
    "def MDR_MPersistence(num):\n",
    "    s=str(num)\n",
    "    persistence=0\n",
    "    while len(s)>1:\n",
    "        s=str(prodDigits(int(s)))\n",
    "        persistence+=1\n",
    "    return int(s),persistence\n",
    "\n",
    "MDR_MPersistence(869)\n",
    "    "
   ]
  },
  {
   "cell_type": "code",
   "execution_count": 5,
   "metadata": {},
   "outputs": [
    {
     "name": "stdout",
     "output_type": "stream",
     "text": [
      " Sum of the proper divisors is:  55\n"
     ]
    }
   ],
   "source": [
    "def SumOfProperDivisors(num):\n",
    "    sum=0\n",
    "    d=1\n",
    "    while d<=num/2:\n",
    "        if int(num%d==0):\n",
    "            sum+=d\n",
    "        d+=1\n",
    "    return sum\n",
    "\n",
    "print(\" Sum of the proper divisors is: \", SumOfProperDivisors(36))"
   ]
  },
  {
   "cell_type": "code",
   "execution_count": 4,
   "metadata": {},
   "outputs": [
    {
     "data": {
      "text/plain": [
       "7"
      ]
     },
     "execution_count": 4,
     "metadata": {},
     "output_type": "execute_result"
    }
   ],
   "source": [
    "def SumOfPDivisors(num):\n",
    "    sum=0\n",
    "    div=1\n",
    "    while div<=num/2:\n",
    "        if int(num%div)==0:\n",
    "            sum+=div\n",
    "        div+=1\n",
    "    return(sum)\n",
    "\n",
    "SumOfPDivisors(8)"
   ]
  },
  {
   "cell_type": "code",
   "execution_count": 7,
   "metadata": {},
   "outputs": [
    {
     "name": "stdout",
     "output_type": "stream",
     "text": [
      "6\n",
      "28\n"
     ]
    }
   ],
   "source": [
    "def perfectSet(r):\n",
    "    #r=int(input({:d}))\n",
    "    start=r[0]\n",
    "    end=r[1]\n",
    "    for n in range(start,end+1,1):\n",
    "        if isPerfect(n):\n",
    "            print(n)\n",
    "    return\n",
    "\n",
    "def isPerfect(n):\n",
    "    #n=int(input(\" Enter the number \"))\n",
    "    if(n==SumOfPDivisors(n)):\n",
    "        return True\n",
    "    else:\n",
    "        return False\n",
    "    \n",
    "perfectSet((1,100))"
   ]
  },
  {
   "cell_type": "code",
   "execution_count": 8,
   "metadata": {},
   "outputs": [
    {
     "name": "stdout",
     "output_type": "stream",
     "text": [
      "6\n",
      "28\n"
     ]
    }
   ],
   "source": [
    "def perfectSet(r):\n",
    "    start=r[0]\n",
    "    end=r[1]\n",
    "    for n in range(start,end+1,1):\n",
    "        if isPerfect(n):\n",
    "            print(n)\n",
    "    return\n",
    "\n",
    "def isPerfect(n):\n",
    "    if n==SumOfPDivisors(n):\n",
    "        return True\n",
    "    else:\n",
    "        return False\n",
    "perfectSet((1,100))"
   ]
  },
  {
   "cell_type": "code",
   "execution_count": 10,
   "metadata": {},
   "outputs": [
    {
     "name": "stdout",
     "output_type": "stream",
     "text": [
      "6\n",
      "28\n"
     ]
    }
   ],
   "source": [
    "def perfectSet(r):\n",
    "    start=r[0]\n",
    "    end=r[1]\n",
    "    for n in range(start,end+1,1):\n",
    "        if isPerfect(n):\n",
    "            print(n)\n",
    "    return\n",
    "\n",
    "def isPerfect(n):\n",
    "    if n==SumOfPDivisors(n):\n",
    "        return True\n",
    "    else:\n",
    "        return False\n",
    "\n",
    "perfectSet((1,100))"
   ]
  },
  {
   "cell_type": "code",
   "execution_count": 13,
   "metadata": {},
   "outputs": [
    {
     "name": "stdout",
     "output_type": "stream",
     "text": [
      "6 6\n",
      "28 28\n",
      "220 284\n",
      "284 220\n",
      "496 496\n"
     ]
    }
   ],
   "source": [
    "def isAmicableSet(r):\n",
    "    start=r[0]\n",
    "    end=r[1]\n",
    "    for n in range(start,end+1,1):\n",
    "        for n1 in range(start,end+1,1):\n",
    "            if isAmicable(n,n1):\n",
    "                print(str(n)+\" \"+str(n1))\n",
    "    return\n",
    "\n",
    "def isAmicable(n,n1):\n",
    "    return (n==SumOfPDivisors(n1) and n1==SumOfPDivisors(n))\n",
    "    \n",
    "isAmicableSet((1,1000))\n",
    "    "
   ]
  },
  {
   "cell_type": "code",
   "execution_count": 18,
   "metadata": {},
   "outputs": [
    {
     "name": "stdout",
     "output_type": "stream",
     "text": [
      "6 6\n",
      "28 28\n",
      "220 284\n",
      "284 220\n",
      "496 496\n"
     ]
    }
   ],
   "source": [
    "def isAmicableSet(r):\n",
    "    start=r[0]\n",
    "    end=r[1]\n",
    "    for n in range(start,end+1,1):\n",
    "        for n1 in range(start,end+1,1):\n",
    "            if isAmicable(n,n1):\n",
    "                print(str(n)+\" \"+str(n1))\n",
    "    return\n",
    "\n",
    "def isAmicable(n,n1):\n",
    "    return ((n==SumOfPDivisors(n1)) and (n1==SumOfPDivisors(n)))\n",
    "\n",
    "isAmicableSet((1,1000))\n",
    "            "
   ]
  },
  {
   "cell_type": "code",
   "execution_count": 22,
   "metadata": {},
   "outputs": [
    {
     "data": {
      "text/plain": [
       "[5, 19, 95]"
      ]
     },
     "execution_count": 22,
     "metadata": {},
     "output_type": "execute_result"
    }
   ],
   "source": [
    "def isOddFilter(lst):\n",
    "    return list(filter(lambda x:x%2!=0,lst))\n",
    "\n",
    "isOddFilter([0,2,5,8,19,20,34,95])\n",
    "    "
   ]
  },
  {
   "cell_type": "code",
   "execution_count": 23,
   "metadata": {},
   "outputs": [
    {
     "data": {
      "text/plain": [
       "[5, 19, 95]"
      ]
     },
     "execution_count": 23,
     "metadata": {},
     "output_type": "execute_result"
    }
   ],
   "source": [
    "def isOdd(lst):\n",
    "    return list(filter(lambda x:x%2!=0,lst))\n",
    "isOdd([0,2,5,8,19,20,34,95])"
   ]
  },
  {
   "cell_type": "code",
   "execution_count": 24,
   "metadata": {},
   "outputs": [
    {
     "data": {
      "text/plain": [
       "[1, 8, 27, 64, 125, 216, 343, 512, 729, 1000]"
      ]
     },
     "execution_count": 24,
     "metadata": {},
     "output_type": "execute_result"
    }
   ],
   "source": [
    "def cubemap(l):\n",
    "    return list(map(lambda x:x**3,l))\n",
    "cubemap([1,2,3,4,5,6,7,8,9,10])"
   ]
  },
  {
   "cell_type": "code",
   "execution_count": 25,
   "metadata": {},
   "outputs": [
    {
     "data": {
      "text/plain": [
       "[1, 8, 27, 64, 125, 216, 343, 512, 729, 1000]"
      ]
     },
     "execution_count": 25,
     "metadata": {},
     "output_type": "execute_result"
    }
   ],
   "source": [
    "def cubeMap(l):\n",
    "    return list(map(lambda x:x**3,l))\n",
    "\n",
    "cubeMap([1,2,3,4,5,6,7,8,9,10])"
   ]
  },
  {
   "cell_type": "code",
   "execution_count": 28,
   "metadata": {},
   "outputs": [
    {
     "data": {
      "text/plain": [
       "[8, 64, 216, 512, 1000]"
      ]
     },
     "execution_count": 28,
     "metadata": {},
     "output_type": "execute_result"
    }
   ],
   "source": [
    "def evenCubes(l):\n",
    "    return list(map(lambda x:x**3, filter(lambda x:x%2==0,l)))\n",
    "evenCubes([1,2,3,4,5,6,7,8,9,10])"
   ]
  },
  {
   "cell_type": "code",
   "execution_count": 30,
   "metadata": {},
   "outputs": [
    {
     "data": {
      "text/plain": [
       "[8, 64, 216, 512, 1000]"
      ]
     },
     "execution_count": 30,
     "metadata": {},
     "output_type": "execute_result"
    }
   ],
   "source": [
    "def evenCubes(li):\n",
    "    return list(map(lambda x:x**3,filter(lambda x:x%2==0,li)))\n",
    "evenCubes([1,2,3,4,5,6,7,8,9,10])"
   ]
  },
  {
   "cell_type": "code",
   "execution_count": null,
   "metadata": {},
   "outputs": [],
   "source": []
  }
 ],
 "metadata": {
  "kernelspec": {
   "display_name": "Python 3",
   "language": "python",
   "name": "python3"
  },
  "language_info": {
   "codemirror_mode": {
    "name": "ipython",
    "version": 3
   },
   "file_extension": ".py",
   "mimetype": "text/x-python",
   "name": "python",
   "nbconvert_exporter": "python",
   "pygments_lexer": "ipython3",
   "version": "3.7.3"
  }
 },
 "nbformat": 4,
 "nbformat_minor": 2
}
